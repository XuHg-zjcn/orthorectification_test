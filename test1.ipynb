{
 "cells": [
  {
   "cell_type": "code",
   "execution_count": null,
   "id": "81c89236",
   "metadata": {},
   "outputs": [],
   "source": [
    "#############################################################################\n",
    "# 正射校正测试\n",
    "# Copyright (C) 2024  Xu Ruijun\n",
    "#\n",
    "# This program is free software: you can redistribute it and/or modify\n",
    "# it under the terms of the GNU General Public License as published by\n",
    "# the Free Software Foundation, either version 3 of the License, or\n",
    "# (at your option) any later version.\n",
    "#\n",
    "# This program is distributed in the hope that it will be useful,\n",
    "# but WITHOUT ANY WARRANTY; without even the implied warranty of\n",
    "# MERCHANTABILITY or FITNESS FOR A PARTICULAR PURPOSE.  See the\n",
    "# GNU General Public License for more details.\n",
    "#\n",
    "# You should have received a copy of the GNU General Public License\n",
    "# along with this program.  If not, see <https://www.gnu.org/licenses/>.\n",
    "#############################################################################"
   ]
  },
  {
   "cell_type": "code",
   "execution_count": 1,
   "id": "5d373774",
   "metadata": {},
   "outputs": [],
   "source": [
    "import numpy as np\n",
    "from osgeo import gdal, osr\n",
    "from myraster import MyRaster\n",
    "from sklearn import linear_model\n",
    "from sklearn.preprocessing import PolynomialFeatures\n",
    "from scipy.optimize import curve_fit\n",
    "import matplotlib.pyplot as plt"
   ]
  },
  {
   "cell_type": "code",
   "execution_count": 2,
   "id": "ad35c266",
   "metadata": {},
   "outputs": [],
   "source": [
    "def read_points(path):\n",
    "    with open(path, 'r') as f:\n",
    "        res = []\n",
    "        crs = f.readline()\n",
    "        assert crs[:6] == '#CRS: '\n",
    "        osra = osr.SpatialReference(crs[6:])\n",
    "        assert f.readline() == 'mapX,mapY,sourceX,sourceY,enable,dX,dY,residual\\n'\n",
    "        while True:\n",
    "            line = f.readline()\n",
    "            if len(line) == 0:\n",
    "                break\n",
    "            res.append(tuple(map(float, line.split(','))))\n",
    "    return osra, res"
   ]
  },
  {
   "cell_type": "code",
   "execution_count": 3,
   "id": "5060b867",
   "metadata": {},
   "outputs": [],
   "source": [
    "# DEM是从USGS EarthExplorer下载的多张30m SRTM, 并用gdal合并的虚拟图层\n",
    "dem=MyRaster(gdal.Open('/mnt/2thdd-btrfs/rs/DEM/SRTM1_v3/USGS_EE/virtal.vrt'))\n",
    "# 地面控制点文件是用QGIS的Georeferencer工具制作\n",
    "# USGS解密影像与现代资料（OpenStreetMap，Sentinel-2和一些自己的GPX文件等）对比，选取了一些长期不变的点\n",
    "#path_points = '/mnt/2thdd-btrfs/rs/USGS_Declass/DS1015-1021DF073/DS1015-1021DF073_c.tif.points'\n",
    "path_points = '/mnt/2thdd-btrfs/rs/USGS_Declass/D3C1215-401419A011/D3C1215-401419A011_e.tif.points'"
   ]
  },
  {
   "cell_type": "code",
   "execution_count": 4,
   "id": "0755fc7e",
   "metadata": {},
   "outputs": [
    {
     "name": "stdout",
     "output_type": "stream",
     "text": [
      "30.08455, 120.56050, 5, 16433, -17237\n",
      "30.08066, 120.55324, 6, 17228, -16622\n",
      "29.99803, 120.56361, 8, 14563, -5574\n",
      "30.05613, 120.45384, 9, 28652, -12034\n",
      "30.05347, 120.45612, 8, 28340, -11704\n",
      "30.03196, 120.45630, 15, 27982, -8784\n",
      "30.00135, 120.53514, 6, 18020, -5647\n",
      "30.07184, 120.41992, 8, 32957, -13729\n",
      "30.12122, 120.60107, 7, 12294, -22628\n",
      "30.09488, 120.43264, 10, 31790, -17001\n",
      "30.05497, 120.66658, 6, 3449, -14616\n",
      "30.10485, 120.39856, 7, 36010, -17904\n",
      "29.98058, 120.65131, 6, 3855, -4364\n",
      "30.00076, 120.43992, 38, 29444, -4307\n",
      "30.04988, 120.46144, 8, 27644, -11285\n",
      "30.12739, 120.40110, 12, 36037, -20964\n",
      "30.10306, 120.50965, 5, 22764, -19073\n",
      "30.07040, 120.47227, 12, 26686, -14204\n",
      "30.02731, 120.53981, 4, 17908, -9235\n",
      "29.99726, 120.42892, 49, 30722, -3682\n",
      "30.01593, 120.42640, 51, 31305, -6205\n",
      "29.98720, 120.41517, 128, 32218, -2124\n",
      "29.98738, 120.42289, 193, 31290, -2270\n",
      "29.98808, 120.38073, 151, 36405, -1800\n",
      "30.03474, 120.45713, 10, 27918, -9164\n",
      "30.02654, 120.43360, 11, 30614, -7748\n",
      "30.02660, 120.39368, 177, 35413, -7256\n",
      "29.98942, 120.45608, 81, 27321, -2965\n",
      "30.00947, 120.45178, 63, 28157, -5658\n",
      "30.08213, 120.45197, 7, 29289, -15527\n",
      "30.06716, 120.39356, 56, 36044, -12756\n",
      "30.06001, 120.63088, 3, 7708, -14833\n",
      "30.01763, 120.62717, 7, 7378, -9081\n",
      "30.13555, 120.44241, 10, 31254, -22565\n",
      "30.09650, 120.66382, 5, 4527, -20110\n",
      "30.09465, 120.66554, 8, 4294, -19889\n",
      "30.11318, 120.67659, 4, 3354, -22470\n",
      "30.10925, 120.68760, 12, 2000, -22076\n",
      "30.10772, 120.69552, 16, 1059, -21977\n",
      "30.09555, 120.61877, 9, 9772, -19433\n",
      "30.03746, 120.51172, 10, 21430, -10255\n",
      "30.03270, 120.50853, 10, 21736, -9568\n",
      "30.05593, 120.58114, 7, 13495, -13653\n",
      "30.05934, 120.69211, 5, 561, -15519\n",
      "30.01531, 120.64773, 10, 4920, -9039\n",
      "30.00219, 120.40846, 225, 33261, -4111\n",
      "30.01040, 120.40906, 202, 33315, -5245\n",
      "30.07165, 120.52082, 7, 20920, -15000\n",
      "30.11197, 120.58314, 7, 14243, -21170\n",
      "30.11100, 120.58091, 11, 14493, -21018\n",
      "30.10705, 120.58323, 8, 14143, -20529\n",
      "30.07521, 120.58737, 8, 13098, -16329\n",
      "30.08566, 120.54288, 9, 18530, -17162\n",
      "30.08474, 120.54726, 11, 18000, -17097\n",
      "30.06353, 120.46619, 7, 27289, -13197\n",
      "30.06401, 120.44216, 8, 30175, -12957\n",
      "30.06091, 120.44518, 10, 29764, -12572\n",
      "30.07572, 120.41728, 8, 33333, -14222\n",
      "30.03908, 120.49031, 8, 24009, -10197\n",
      "29.99101, 120.47639, 5, 24893, -3446\n",
      "29.98795, 120.47208, 7, 25362, -2966\n",
      "29.97991, 120.48364, 1, 23842, -2012\n",
      "29.98088, 120.66274, 116, 2517, -4563\n",
      "29.97532, 120.58484, 8, 11631, -2754\n",
      "29.98376, 120.57815, 11, 12575, -3817\n",
      "29.98120, 120.57301, 9, 13140, -3399\n",
      "30.01409, 120.48345, 9, 24428, -6702\n",
      "[    30.04795846    120.5175076      29.40102109  20973.17184434\n",
      " -11716.46344994]\n",
      "67\n"
     ]
    }
   ],
   "source": [
    "osra, res = read_points(path_points)\n",
    "osrgeo = osr.SpatialReference()\n",
    "osrgeo.SetWellKnownGeogCS(\"WGS84\")\n",
    "ct_geo2prj = osr.CoordinateTransformation(osrgeo, osra)\n",
    "ct_prj2geo = osr.CoordinateTransformation(osra, osrgeo)\n",
    "data = []\n",
    "for mapX,mapY,sourceX,sourceY,enable,dX,dY,residual in res:\n",
    "    lat, lon = ct_prj2geo.TransformPoint(mapX, mapY)[:2]\n",
    "    h = dem.get_geopoint_cubic(lon, lat)\n",
    "    data.append((lat, lon, h, sourceX, sourceY))\n",
    "    print(f'{lat:.5f}, {lon:.5f}, {h:.0f}, {sourceX:.0f}, {sourceY:.0f}')\n",
    "data = np.array(data)\n",
    "print(data.mean(axis=0))\n",
    "print(len(data))"
   ]
  },
  {
   "cell_type": "code",
   "execution_count": 246,
   "id": "f40eac7d",
   "metadata": {},
   "outputs": [],
   "source": [
    "pl=(data[:,:2]-(30.05, 120.5))\n",
    "plh=np.concatenate([pl, data[:,2:3]], axis=1)\n",
    "#plh=pl\n",
    "xy = data[:,-2:]"
   ]
  },
  {
   "cell_type": "code",
   "execution_count": 247,
   "id": "5133706e",
   "metadata": {},
   "outputs": [
    {
     "name": "stdout",
     "output_type": "stream",
     "text": [
      "[[ 0.00000000e+00  1.65570159e+04 -1.19354123e+05 -1.81760158e+03\n",
      "   1.35945588e+04  5.17128457e+03 -3.08640316e+03 -1.87303646e+03\n",
      "  -1.26359432e+04  1.18564360e+04 -2.68082490e-02]\n",
      " [ 0.00000000e+00 -1.35503229e+05 -1.30097399e+04  1.47300284e+04\n",
      "   6.60923803e+03  3.94938322e+01  1.05064602e+04  1.09189307e+04\n",
      "   1.26825453e+04  4.49654544e+03 -1.32634780e-01]]\n"
     ]
    }
   ],
   "source": [
    "pfX = PolynomialFeatures(degree=3)\n",
    "pfX.fit(pl)\n",
    "def mytransf(x):\n",
    "    #x = pfX.transform(x)\n",
    "    # remove z^3\n",
    "    #return np.concatenate([x[:, :19]], axis=-1)\n",
    "    # remove z^2, xz^2, yz^2, z^3\n",
    "    #return np.concatenate([x[:, :9], x[:, 10:15], x[:, 16:18]], axis=-1)\n",
    "    # remove z^2, x^2z, y^2z, xz^2, yz^2, xyz, z^3\n",
    "    #return np.concatenate([x[:, :9], x[:, 10:12], x[:, 13:14], x[:, 16:17]], axis=-1)\n",
    "    xpl = pfX.transform(x[:,:2])\n",
    "    return np.concatenate([xpl, x[:,2:3]], axis=-1)\n",
    "X = mytransf(plh)\n",
    "model=linear_model.LinearRegression()\n",
    "model.fit(X, xy)\n",
    "print(model.coef_)"
   ]
  },
  {
   "cell_type": "code",
   "execution_count": 248,
   "id": "05d36b3d",
   "metadata": {},
   "outputs": [
    {
     "name": "stdout",
     "output_type": "stream",
     "text": [
      "[1.58675689 1.85915527 3.01901287 1.61363511 1.87755909 7.98008725\n",
      " 2.51729369 3.16338206 5.2953873  2.69439071 3.68775675 5.52887314\n",
      " 2.13969136 3.77608942 0.94765847 0.63566668 2.58847367 6.48129373\n",
      " 9.01092092 3.85291144 9.70656705 5.26233175 7.87100413 1.27111921\n",
      " 6.9165604  1.92352466 3.15258421 6.18156146 0.85662591 0.21124665\n",
      " 6.04541544 6.98728056 2.99950974 3.37017933 1.60181305 1.4751076\n",
      " 3.14250124 6.6877216  3.71466735 3.09275338 1.55372744 5.04015909\n",
      " 2.66155811 2.86993487 4.41458552 1.7573647  2.7071351  2.74472254\n",
      " 7.95713121 9.10987167 4.4719062  3.52490432 7.62245475 4.47875505\n",
      " 5.54096932 5.11457583 1.6663186  4.28594511 5.43085665 2.32467625\n",
      " 3.50920426 6.29846569 8.24148642 3.97182736 2.94223422 6.09498456\n",
      " 3.1626378 ]\n",
      "9.706567047510687 3.612774126154679\n"
     ]
    }
   ],
   "source": [
    "err=model.predict(mytransf(plh))-xy\n",
    "errx=err[:,0]\n",
    "erry=err[:,1]\n",
    "erra=np.sqrt(errx**2+erry**2)\n",
    "rms=np.sqrt(np.sum(err**2)/(np.size(err)-np.size(model.coef_)))\n",
    "print(erra)\n",
    "print(np.max(erra), rms)"
   ]
  },
  {
   "cell_type": "code",
   "execution_count": 252,
   "id": "3717de54",
   "metadata": {},
   "outputs": [
    {
     "data": {
      "image/png": "[encoded data removed]",
      "text/plain": [
       "<Figure size 432x288 with 1 Axes>"
      ]
     },
     "metadata": {
      "needs_background": "light"
     },
     "output_type": "display_data"
    }
   ],
   "source": [
    "plt.scatter(data[:,1], data[:,0], s=erra**2)\n",
    "#plt.scatter(data[:,1], data[:,0], s=data[:,2])\n",
    "plt.show()"
   ]
  },
  {
   "cell_type": "code",
   "execution_count": 253,
   "id": "8e90c12c",
   "metadata": {},
   "outputs": [
    {
     "data": {
      "text/plain": [
       "array([ 21844.45218279, -11932.64211481])"
      ]
     },
     "execution_count": 253,
     "metadata": {},
     "output_type": "execute_result"
    }
   ],
   "source": [
    "np.matmul(model.coef_, mytransf(np.array([(0.0,0.01,0)]))[0]) + model.intercept_"
   ]
  },
  {
   "cell_type": "code",
   "execution_count": 257,
   "id": "585f4c9a",
   "metadata": {},
   "outputs": [
    {
     "data": {
      "image/png": "[encoded data removed]",
      "text/plain": [
       "<Figure size 432x288 with 2 Axes>"
      ]
     },
     "metadata": {
      "needs_background": "light"
     },
     "output_type": "display_data"
    }
   ],
   "source": [
    "lat=(np.arange(29.96, 30.13, 0.01)-30.05)\n",
    "lon=(np.arange(120.38, 120.69, 0.01)-120.5)\n",
    "L, B = np.meshgrid(lon, lat)\n",
    "BL0 = np.array([B, L, np.zeros_like(B)]).transpose((1,2,0)).reshape((-1,3))\n",
    "BL1 = np.array([B, L, np.ones_like(B)]).transpose((1,2,0)).reshape((-1,3))\n",
    "a = model.predict(mytransf(BL0)).reshape((len(lat), len(lon), 2))\n",
    "b = model.predict(mytransf(BL1)).reshape((len(lat), len(lon), 2))\n",
    "plt.imshow(np.diff(a[:,:,0], axis=1)/a[:,:-1,0], origin='lower')\n",
    "plt.colorbar()\n",
    "plt.show()"
   ]
  },
  {
   "cell_type": "code",
   "execution_count": 296,
   "id": "cae65eef",
   "metadata": {},
   "outputs": [],
   "source": [
    "def parttofull(x):\n",
    "    i, p, l, p2, lp, l2, p3, p2l, l2p, l3, h = x.transpose()\n",
    "    lh = ph = h2 = plh = h2l = h2p = l2h = p2h = h3 = np.zeros_like(i)\n",
    "    return np.array([i, l, p, h, lp, lh, ph, l2, p2, h2, plh, l3, p2l, h2l, l2p, p3, h2p, l2h, p2h, h3])\n",
    "\n",
    "def write_rpc(fn, model):\n",
    "    with open(fn, 'w') as f:\n",
    "        f.write('ERR_BIAS: 0.0\\n'\n",
    "                'ERR_RAND: 0.0\\n'\n",
    "                f'LINE_OFF: {-model.intercept_[1]}\\n'\n",
    "                f'SAMP_OFF: {model.intercept_[0]}\\n'\n",
    "                'LAT_OFF: 30.05\\n'\n",
    "                'LONG_OFF: 120.5\\n'\n",
    "                'HEIGHT_OFF: 1\\n'\n",
    "                'LINE_SCALE: 1\\n'\n",
    "                'SAMP_SCALE: 1\\n'\n",
    "                'LAT_SCALE: 1\\n'\n",
    "                'LONG_SCALE: 1\\n'\n",
    "                'HEIGHT_SCALE: 1\\n')\n",
    "        line_num_coeff = -parttofull(model.coef_[1])\n",
    "        line_den_coeff = np.zeros(20)\n",
    "        line_den_coeff[0] = 1\n",
    "        samp_num_coeff = parttofull(model.coef_[0])\n",
    "        samp_den_coeff = np.zeros(20)\n",
    "        samp_den_coeff[0] = 1\n",
    "        for i in range(20):\n",
    "            f.write(f'LINE_NUM_COEFF_{i+1}: {line_num_coeff[i]}\\n')\n",
    "        for i in range(20):\n",
    "            f.write(f'LINE_DEN_COEFF_{i+1}: {line_den_coeff[i]}\\n')\n",
    "        for i in range(20):\n",
    "            f.write(f'SAMP_NUM_COEFF_{i+1}: {samp_num_coeff[i]}\\n')\n",
    "        for i in range(20):\n",
    "            f.write(f'SAMP_DEN_COEFF_{i+1}: {samp_den_coeff[i]}\\n')\n",
    "write_rpc('/mnt/2thdd-btrfs/rs/USGS_Declass/D3C1215-401419A011/D3C1215-401419A011_e_RPC.TXT', model)"
   ]
  },
  {
   "cell_type": "code",
   "execution_count": null,
   "id": "a8f94fa6",
   "metadata": {},
   "outputs": [],
   "source": []
  }
 ],
 "metadata": {
  "kernelspec": {
   "display_name": "Python 3 (ipykernel)",
   "language": "python",
   "name": "python3"
  },
  "language_info": {
   "codemirror_mode": {
    "name": "ipython",
    "version": 3
   },
   "file_extension": ".py",
   "mimetype": "text/x-python",
   "name": "python",
   "nbconvert_exporter": "python",
   "pygments_lexer": "ipython3",
   "version": "3.11.5"
  }
 },
 "nbformat": 4,
 "nbformat_minor": 5
}
